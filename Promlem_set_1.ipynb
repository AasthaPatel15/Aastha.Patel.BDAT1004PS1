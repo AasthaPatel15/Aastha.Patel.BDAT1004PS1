{
 "cells": [
  {
   "cell_type": "markdown",
   "metadata": {},
   "source": [
    "# Problem Set 1\n"
   ]
  },
  {
   "attachments": {},
   "cell_type": "markdown",
   "metadata": {},
   "source": [
    "### Q1\n"
   ]
  },
  {
   "cell_type": "code",
   "execution_count": 2,
   "metadata": {},
   "outputs": [
    {
     "name": "stdout",
     "output_type": "stream",
     "text": [
      "'5' is of int data type.\n",
      "'5.0' is of float data type.\n",
      "'True' is of bool data type.\n",
      "'5' is of str data type.\n",
      "'10' is of int data type.\n",
      "'55' is of str data type.\n",
      "'52' is of str data type.\n",
      "'2.5' is of float data type.\n",
      "'1' is of int data type.\n",
      "'{1, 2, 5}' is of set data type.\n",
      "'False' is of bool data type.\n"
     ]
    }
   ],
   "source": [
    "# expressions = exp\n",
    "# data type = dt\n",
    "\n",
    "exp = [5, 5.0, 5 > 1, '5', 5 * 2, '5' * 2, '5' + '2', 5 / 2, 5 % 2, {5, 2, 1}, 5 == 3]\n",
    "\n",
    "for exp in expressions:\n",
    "    dt = type(exp).__name__\n",
    "    print(\"'{}' is of {} data type.\".format(exp, dt))\n"
   ]
  },
  {
   "cell_type": "markdown",
   "metadata": {},
   "source": [
    "### Q2\n"
   ]
  },
  {
   "cell_type": "code",
   "execution_count": 4,
   "metadata": {},
   "outputs": [
    {
     "name": "stdout",
     "output_type": "stream",
     "text": [
      "a. There are 34 letters in 'Supercalifragilisticexpialidocious'.\n",
      "b. Does 'Supercalifragilisticexpialidocious' contain 'ice' as a substring? True\n",
      "c. The longest word is: 'Supercalifragilisticexpialidocious'\n",
      "d. 1st composer in the dictionary is Bartok\n",
      "   Last composer in the dictionary is Buxtehude\n"
     ]
    }
   ],
   "source": [
    "# A\n",
    "w = 'Supercalifragilisticexpialidocious'\n",
    "numberOfLetters = len(w)\n",
    "print(f\"a. There are {numberOfLetters} letters in '{w}'.\")\n",
    "\n",
    "# B\n",
    "subString = 'ice'\n",
    "contains_substring = subString in w\n",
    "print(f\"b. Does '{w}' contain '{subString}' as a substring? {contains_substring}\")\n",
    "\n",
    "# C\n",
    "w = [\n",
    "    'Supercalifragilisticexpialidocious',\n",
    "    'Honorificabilitudinitatibus',\n",
    "    'Bababadalgharaghtakamminarronnkonn'\n",
    "]\n",
    "longestWord = max(w, key=len)\n",
    "print(f\"c. The longest word is: '{longestWord}'\")\n",
    "\n",
    "# D\n",
    "# composers = comp\n",
    "comp = ['Berlioz', 'Borodin', 'Brian', 'Bartok', 'Bellini', 'Buxtehude', 'Bernstein']\n",
    "comp.sort()\n",
    "firstComp = comp[0]\n",
    "lastComp = comp[-1]\n",
    "print(f\"d. 1st composer in the dictionary is {firstComp}\")\n",
    "print(f\"   Last composer in the dictionary is {lastComp}\")"
   ]
  },
  {
   "cell_type": "markdown",
   "metadata": {},
   "source": [
    "### Q3\n"
   ]
  },
  {
   "cell_type": "code",
   "execution_count": 4,
   "metadata": {},
   "outputs": [
    {
     "name": "stdout",
     "output_type": "stream",
     "text": [
      "area: 1.7320508075688772\n"
     ]
    }
   ],
   "source": [
    "# semi-perimeter = sp\n",
    "# Use Heron's formula to compute the area\n",
    "# triangle area = ta\n",
    "\n",
    "import math\n",
    "\n",
    "def triangleArea(s1, s2, s3):\n",
    "    sp = (s1 + s2 + s3) / 2\n",
    "    area = math.sqrt(sp * (sp - s1) * (sp - s2) * (sp - s3))\n",
    "    return area\n",
    "ta = triangleArea(2, 2, 2)\n",
    "print(\"area:\", ta)\n"
   ]
  },
  {
   "cell_type": "markdown",
   "metadata": {},
   "source": [
    "### Q4\n"
   ]
  },
  {
   "cell_type": "code",
   "execution_count": 6,
   "metadata": {},
   "outputs": [
    {
     "name": "stdout",
     "output_type": "stream",
     "text": [
      "Even elements:-\n",
      "32 24 46\n",
      "Odd elements:-\n",
      "25 47\n"
     ]
    }
   ],
   "source": [
    "numberOfElements = int(input(\"Input the number of elements to be stored in the array: \"))\n",
    "\n",
    "evenNumbers = []\n",
    "oddNumbers = []\n",
    "\n",
    "# elements = e\n",
    "for i in range(numberOfElements):\n",
    "    e = int(input(f\"element - {i} : \"))\n",
    "    if e % 2 == 0:\n",
    "        evenNumbers.append(e)\n",
    "    else:\n",
    "        oddNumbers.append(e)\n",
    "\n",
    "print(\"Even elements:-\")\n",
    "print(\" \".join(map(str, evenNumbers)))\n",
    "\n",
    "print(\"Odd elements:-\")\n",
    "print(\" \".join(map(str, oddNumbers)))"
   ]
  },
  {
   "cell_type": "markdown",
   "metadata": {},
   "source": [
    "### Q5\n"
   ]
  },
  {
   "cell_type": "code",
   "execution_count": 7,
   "metadata": {},
   "outputs": [
    {
     "name": "stdout",
     "output_type": "stream",
     "text": [
      "True\n",
      "False\n",
      "False\n",
      "True\n"
     ]
    }
   ],
   "source": [
    "def inside(x, y, x1, y1, x2, y2):\n",
    "    return x1 <= x <= x2 and y1 <= y <= y2\n",
    "\n",
    "# result1, result2 = r1, r2\n",
    "r1 = inside(1, 1, 0, 0, 2, 3)\n",
    "r2 = inside(-1, -1, 0, 0, 2, 3)\n",
    "print(r1)  \n",
    "print(r2)  \n",
    "\n",
    "# rectangle1, rectangle2 = rg1, rg2\n",
    "rg1 = inside(1, 1, 0.3, 0.5, 1.1, 0.7)\n",
    "rg2 = inside(1, 1, 0.5, 0.2, 1.1, 2)\n",
    "print(rg1) \n",
    "print(rg2)  "
   ]
  },
  {
   "cell_type": "markdown",
   "metadata": {},
   "source": [
    "### Q6\n"
   ]
  },
  {
   "cell_type": "code",
   "execution_count": 8,
   "metadata": {},
   "outputs": [
    {
     "name": "stdout",
     "output_type": "stream",
     "text": [
      "appyhay\n",
      "enterway\n"
     ]
    }
   ],
   "source": [
    "def pig(w):\n",
    "    # words = w\n",
    "    w = w.lower()\n",
    "    \n",
    "    # vowels = v\n",
    "    v = {'a', 'e', 'i', 'o', 'u'}\n",
    "    \n",
    "    if w[0] in v:\n",
    "        return w + 'way'\n",
    "    else:\n",
    "        i = 0 \n",
    "        while i < len(w) and w[i] not in v:\n",
    "            i += 1\n",
    "        \n",
    "        pigLatin = w[i:] + w[:i] + 'ay'\n",
    "        return pigLatin\n",
    "\n",
    "print(pig('happy')) \n",
    "print(pig('Enter')) "
   ]
  },
  {
   "cell_type": "markdown",
   "metadata": {},
   "source": [
    "### Q7\n"
   ]
  },
  {
   "cell_type": "code",
   "execution_count": 9,
   "metadata": {},
   "outputs": [
    {
     "name": "stdout",
     "output_type": "stream",
     "text": [
      "There are 10 patients of blood type A.\n",
      "There is 1 patient of blood type B.\n",
      "There are 10 patients of blood type AB.\n",
      "There are 12 patients of blood type O.\n",
      "There are 0 patients of blood type OO.\n"
     ]
    }
   ],
   "source": [
    "def bldcount(bloodtype):\n",
    "    \n",
    "    bloodTypeCounts = {'A': 10, 'B': 1, 'AB': 10, 'O': 12, 'OO': 0}\n",
    "    \n",
    "    try:\n",
    "        with open(bloodtype, 'r') as file:\n",
    "            for line in file:\n",
    "                line = line.strip()\n",
    "                \n",
    "                if line in bloodTypeCounts:\n",
    "                    bloodTypeCounts[line] += 1\n",
    "    \n",
    "        for blood_type, c in bloodTypeCounts.items():\n",
    "            if c== 1:# count = c\n",
    "                print(f\"There is {c} patient of blood type {blood_type}.\")\n",
    "            elif c > 1:\n",
    "                print(f\"There are {c} patients of blood type {blood_type}.\")\n",
    "            else:\n",
    "                print(f\"There are {c} patients of blood type {blood_type}.\")\n",
    "    \n",
    "    except FileNotFoundError:\n",
    "        print(f\"File '{bloodtype}' not found.\")\n",
    "    except Exception as e:\n",
    "        print(f\"An error occurred: {e}\")\n",
    "\n",
    "bldcount(\"C:/Users/aasth/Downloads/bloodtype1.txt\")"
   ]
  },
  {
   "cell_type": "markdown",
   "metadata": {},
   "source": [
    "### Q8\n"
   ]
  },
  {
   "cell_type": "code",
   "execution_count": 11,
   "metadata": {},
   "outputs": [
    {
     "name": "stdout",
     "output_type": "stream",
     "text": [
      "122.96544\n",
      "1.241401\n",
      "1.77643\n",
      "103.45157\n"
     ]
    }
   ],
   "source": [
    "def curconv(currency, a):\n",
    "    try:\n",
    "        with open(\"C:/Users/aasth/Downloads/currencies.txt\", 'r') as file:\n",
    "            for line in file:\n",
    "                parts = line.split()\n",
    "                if parts[0] == currency:\n",
    "                    rate = float(parts[1])\n",
    "                    return a * rate # amount = a\n",
    "        raise ValueError(f\"Currency code '{currency}' not found in file\")\n",
    "    except FileNotFoundError:\n",
    "        print(\"Error: file not found.\")\n",
    "    except Exception as e:\n",
    "        print(f\"An error occurred: {e}\")\n",
    "\n",
    "usdAmount1 = curconv('EUR', 100)\n",
    "print(usdAmount1)  \n",
    "\n",
    "usdAmount2 = curconv('JPY', 100)\n",
    "print(usdAmount2) \n",
    "\n",
    "usdAmount3 = curconv('INR', 100)\n",
    "print(usdAmount3) \n",
    "\n",
    "usdAmount4 = curconv('AUD', 100)\n",
    "print(usdAmount4) "
   ]
  },
  {
   "cell_type": "markdown",
   "metadata": {},
   "source": [
    "### Q9"
   ]
  },
  {
   "cell_type": "code",
   "execution_count": 13,
   "metadata": {},
   "outputs": [
    {
     "name": "stdout",
     "output_type": "stream",
     "text": [
      "a TypeError - unsupported operand type(s) for +: 'int' and 'str'\n",
      "b IndexError - list index out of range\n",
      "c ValueError - math domain error\n",
      "d NameError - name 'x' is not defined\n",
      "e FileNotFoundError - [Errno 2] No such file or directory: 'non_existent_file.txt'\n"
     ]
    }
   ],
   "source": [
    "import math\n",
    "# a\n",
    "try:\n",
    "    r = 6 + 'a'\n",
    "except TypeError as e:\n",
    "    print(f\"a {e.__class__.__name__} - {e}\")\n",
    "\n",
    "# b, my list = ml\n",
    "try:\n",
    "    ml = [0, 1, 2, 3, 4, 5, 6, 7, 8, 9]\n",
    "    item = ml[12]\n",
    "except IndexError as e:\n",
    "    print(f\"b {e.__class__.__name__} - {e}\")\n",
    "\n",
    "# c, Nagative squerroot = ns\n",
    "try:\n",
    "    ns = math.sqrt(-1.0)\n",
    "except ValueError as e:\n",
    "    print(f\"c {e.__class__.__name__} - {e}\")\n",
    "\n",
    "# d\n",
    "try:\n",
    "    print(x)\n",
    "except NameError as e:\n",
    "    print(f\"d {e.__class__.__name__} - {e}\")\n",
    "\n",
    "# e\n",
    "try:\n",
    "    with open('non_existent_file.txt', 'r'):\n",
    "        pass\n",
    "except FileNotFoundError as e:\n",
    "    print(f\"e {e.__class__.__name__} - {e}\")"
   ]
  },
  {
   "cell_type": "markdown",
   "metadata": {},
   "source": [
    "### Q10"
   ]
  },
  {
   "cell_type": "code",
   "execution_count": 14,
   "metadata": {},
   "outputs": [
    {
     "name": "stdout",
     "output_type": "stream",
     "text": [
      "[1, 1, 1, 3, 5, 1, 1, 2, 1, 0, 1, 0, 1, 2, 4, 0, 1, 2, 0, 3, 1, 0, 1, 1, 0, 0]\n",
      "[1, 0, 0, 0, 1, 0, 0, 0, 0, 0, 0, 1, 0, 0, 0, 2, 0, 0, 0, 0, 0, 0, 0, 0, 0, 0]\n"
     ]
    }
   ],
   "source": [
    "def frequencies(t):\n",
    "    l = 'abcdefghijklmnopqrstuvwxyz'\n",
    "    cf = [0] * 26\n",
    "    t = t.lower()\n",
    "    \n",
    "    for c in t:\n",
    "        if c.isalpha() and c in l:\n",
    "            i = l.index(c)\n",
    "            cf[i] += 1\n",
    "    \n",
    "    return cf\n",
    "\n",
    "r1 = frequencies('The quick red fox got bored and went home.')\n",
    "print(r1) \n",
    "r2 = frequencies('apple')\n",
    "print(r2) "
   ]
  }
 ],
 "metadata": {
  "kernelspec": {
   "display_name": "Python 3",
   "language": "python",
   "name": "python3"
  },
  "language_info": {
   "codemirror_mode": {
    "name": "ipython",
    "version": 3
   },
   "file_extension": ".py",
   "mimetype": "text/x-python",
   "name": "python",
   "nbconvert_exporter": "python",
   "pygments_lexer": "ipython3",
   "version": "3.11.2"
  },
  "orig_nbformat": 4
 },
 "nbformat": 4,
 "nbformat_minor": 2
}
